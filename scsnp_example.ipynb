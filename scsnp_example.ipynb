{
 "cells": [
  {
   "cell_type": "code",
   "execution_count": 21,
   "metadata": {},
   "outputs": [],
   "source": [
    "from scsnp.snp_10x import quantify_SNP_in_position, annotate_snp_2_adata\n",
    "import scanpy as sc\n",
    "import pysam"
   ]
  },
  {
   "cell_type": "markdown",
   "metadata": {},
   "source": [
    "download some sample data from 10x"
   ]
  },
  {
   "cell_type": "code",
   "execution_count": 4,
   "metadata": {},
   "outputs": [],
   "source": [
    "!mkdir data\n",
    "!wget http://cf.10xgenomics.com/samples/cell-exp/3.0.0/pbmc_1k_protein_v3/pbmc_1k_protein_v3_filtered_feature_bc_matrix.tar.gz -O data/pbmc_1k_protein_v3_filtered_feature_bc_matrix.tar.gz\n",
    "!wget http://cf.10xgenomics.com/samples/cell-exp/3.0.0/pbmc_1k_protein_v3/pbmc_1k_protein_v3_possorted_genome_bam.bam -O data/pbmc_1k_protein_v3_possorted_genome_bam.bam\n",
    "!wget http://cf.10xgenomics.com/samples/cell-exp/3.0.0/pbmc_1k_protein_v3/pbmc_1k_protein_v3_possorted_genome_bam.bam.bai -O data/pbmc_1k_protein_v3_possorted_genome_bam.bam.bai"
   ]
  },
  {
   "cell_type": "code",
   "execution_count": 7,
   "metadata": {},
   "outputs": [],
   "source": [
    "!cd data; tar -xzf pbmc_1k_protein_v3_filtered_feature_bc_matrix.tar.gz"
   ]
  },
  {
   "cell_type": "markdown",
   "metadata": {},
   "source": [
    "check a single locus inside CD8B. For each cell that has read coverage, it returns the bases detected"
   ]
  },
  {
   "cell_type": "code",
   "execution_count": 18,
   "metadata": {},
   "outputs": [
    {
     "data": {
      "text/plain": [
       "defaultdict(list,\n",
       "            {'TTCCACGCATCCAATG-1': ['T', 'C'],\n",
       "             'GATGACTGTTAGGGTG-1': ['T'],\n",
       "             'CTCTGGTTCCGAGGCT-1': ['C', 'C'],\n",
       "             'ACTATCTGTGCAATAA-1': ['T'],\n",
       "             'TCCACCATCAGCTGTA-1': ['C'],\n",
       "             'AGAACAATCGCCAGAC-1': ['T'],\n",
       "             'CATGGATGTCTGTGCG-1': ['C', 'C'],\n",
       "             'GCTGGGTGTACGATTC-1': ['T'],\n",
       "             'TCCATCGCAATTGTGC-1': ['C'],\n",
       "             'GCGATCGGTGGAGGTT-1': ['C'],\n",
       "             'CACGAATGTACGATCT-1': ['T'],\n",
       "             'CAGGCCATCGTTCGCT-1': ['T']})"
      ]
     },
     "execution_count": 18,
     "metadata": {},
     "output_type": "execute_result"
    }
   ],
   "source": [
    "quantify_SNP_in_position(chrom='2', pos=86815701, bamfile=pysam.AlignmentFile('data/pbmc_1k_protein_v3_possorted_genome_bam.bam'))"
   ]
  },
  {
   "cell_type": "markdown",
   "metadata": {},
   "source": [
    "---\n",
    "scanpy, annotating that locus to the dataset"
   ]
  },
  {
   "cell_type": "code",
   "execution_count": 19,
   "metadata": {},
   "outputs": [],
   "source": [
    "adata = sc.read_10x_mtx('data/filtered_feature_bc_matrix/')"
   ]
  },
  {
   "cell_type": "code",
   "execution_count": 24,
   "metadata": {},
   "outputs": [
    {
     "name": "stderr",
     "output_type": "stream",
     "text": [
      "Trying to set attribute `.obs` of view, making a copy.\n"
     ]
    },
    {
     "name": "stdout",
     "output_type": "stream",
     "text": [
      "Cells not in the adata:\n",
      "TCCACCATCAGCTGTA-1 AGAACAATCGCCAGAC-1 CACGAATGTACGATCT-1\n"
     ]
    }
   ],
   "source": [
    "annotate_snp_2_adata(adata, '2', 86815701, \n",
    "                     pysam.AlignmentFile('data/pbmc_1k_protein_v3_possorted_genome_bam.bam'),\n",
    "                     refbase='T')"
   ]
  },
  {
   "cell_type": "code",
   "execution_count": 30,
   "metadata": {},
   "outputs": [
    {
     "data": {
      "text/html": [
       "<div>\n",
       "<style scoped>\n",
       "    .dataframe tbody tr th:only-of-type {\n",
       "        vertical-align: middle;\n",
       "    }\n",
       "\n",
       "    .dataframe tbody tr th {\n",
       "        vertical-align: top;\n",
       "    }\n",
       "\n",
       "    .dataframe thead th {\n",
       "        text-align: right;\n",
       "    }\n",
       "</style>\n",
       "<table border=\"1\" class=\"dataframe\">\n",
       "  <thead>\n",
       "    <tr style=\"text-align: right;\">\n",
       "      <th></th>\n",
       "      <th>SNP_2_86815701_GT</th>\n",
       "      <th>SNP_2_86815701_nALT</th>\n",
       "      <th>SNP_2_86815701_coverage</th>\n",
       "    </tr>\n",
       "    <tr>\n",
       "      <th>0</th>\n",
       "      <th></th>\n",
       "      <th></th>\n",
       "      <th></th>\n",
       "    </tr>\n",
       "  </thead>\n",
       "  <tbody>\n",
       "    <tr>\n",
       "      <th>AAACCCAAGTGGTCAG-1</th>\n",
       "      <td>.</td>\n",
       "      <td>0</td>\n",
       "      <td>0</td>\n",
       "    </tr>\n",
       "    <tr>\n",
       "      <th>AAAGGTATCAACTACG-1</th>\n",
       "      <td>.</td>\n",
       "      <td>0</td>\n",
       "      <td>0</td>\n",
       "    </tr>\n",
       "    <tr>\n",
       "      <th>AAAGTCCAGCGTGTCC-1</th>\n",
       "      <td>.</td>\n",
       "      <td>0</td>\n",
       "      <td>0</td>\n",
       "    </tr>\n",
       "    <tr>\n",
       "      <th>AACACACTCAAGAGTA-1</th>\n",
       "      <td>.</td>\n",
       "      <td>0</td>\n",
       "      <td>0</td>\n",
       "    </tr>\n",
       "    <tr>\n",
       "      <th>AACACACTCGACGAGA-1</th>\n",
       "      <td>.</td>\n",
       "      <td>0</td>\n",
       "      <td>0</td>\n",
       "    </tr>\n",
       "  </tbody>\n",
       "</table>\n",
       "</div>"
      ],
      "text/plain": [
       "                   SNP_2_86815701_GT  SNP_2_86815701_nALT  \\\n",
       "0                                                           \n",
       "AAACCCAAGTGGTCAG-1                 .                    0   \n",
       "AAAGGTATCAACTACG-1                 .                    0   \n",
       "AAAGTCCAGCGTGTCC-1                 .                    0   \n",
       "AACACACTCAAGAGTA-1                 .                    0   \n",
       "AACACACTCGACGAGA-1                 .                    0   \n",
       "\n",
       "                    SNP_2_86815701_coverage  \n",
       "0                                            \n",
       "AAACCCAAGTGGTCAG-1                        0  \n",
       "AAAGGTATCAACTACG-1                        0  \n",
       "AAAGTCCAGCGTGTCC-1                        0  \n",
       "AACACACTCAAGAGTA-1                        0  \n",
       "AACACACTCGACGAGA-1                        0  "
      ]
     },
     "execution_count": 30,
     "metadata": {},
     "output_type": "execute_result"
    }
   ],
   "source": [
    "adata.obs.head()"
   ]
  },
  {
   "cell_type": "markdown",
   "metadata": {},
   "source": [
    "We get per cell:\n",
    "- the 'inferred' genotype of all cells. `.` indicates no coverage\n",
    "- the number of reads supporting an ALT allele\n",
    "- the number of reads covering the SNP"
   ]
  },
  {
   "cell_type": "markdown",
   "metadata": {},
   "source": [
    "only checking cells with coverage"
   ]
  },
  {
   "cell_type": "code",
   "execution_count": 31,
   "metadata": {},
   "outputs": [
    {
     "data": {
      "text/html": [
       "<div>\n",
       "<style scoped>\n",
       "    .dataframe tbody tr th:only-of-type {\n",
       "        vertical-align: middle;\n",
       "    }\n",
       "\n",
       "    .dataframe tbody tr th {\n",
       "        vertical-align: top;\n",
       "    }\n",
       "\n",
       "    .dataframe thead th {\n",
       "        text-align: right;\n",
       "    }\n",
       "</style>\n",
       "<table border=\"1\" class=\"dataframe\">\n",
       "  <thead>\n",
       "    <tr style=\"text-align: right;\">\n",
       "      <th></th>\n",
       "      <th>SNP_2_86815701_GT</th>\n",
       "      <th>SNP_2_86815701_nALT</th>\n",
       "      <th>SNP_2_86815701_coverage</th>\n",
       "    </tr>\n",
       "    <tr>\n",
       "      <th>0</th>\n",
       "      <th></th>\n",
       "      <th></th>\n",
       "      <th></th>\n",
       "    </tr>\n",
       "  </thead>\n",
       "  <tbody>\n",
       "    <tr>\n",
       "      <th>ACTATCTGTGCAATAA-1</th>\n",
       "      <td>GT 0/0</td>\n",
       "      <td>0</td>\n",
       "      <td>1</td>\n",
       "    </tr>\n",
       "    <tr>\n",
       "      <th>CAGGCCATCGTTCGCT-1</th>\n",
       "      <td>GT 0/0</td>\n",
       "      <td>0</td>\n",
       "      <td>1</td>\n",
       "    </tr>\n",
       "    <tr>\n",
       "      <th>CATGGATGTCTGTGCG-1</th>\n",
       "      <td>GT 0/1</td>\n",
       "      <td>2</td>\n",
       "      <td>2</td>\n",
       "    </tr>\n",
       "    <tr>\n",
       "      <th>CTCTGGTTCCGAGGCT-1</th>\n",
       "      <td>GT 0/1</td>\n",
       "      <td>2</td>\n",
       "      <td>2</td>\n",
       "    </tr>\n",
       "    <tr>\n",
       "      <th>GATGACTGTTAGGGTG-1</th>\n",
       "      <td>GT 0/0</td>\n",
       "      <td>0</td>\n",
       "      <td>1</td>\n",
       "    </tr>\n",
       "    <tr>\n",
       "      <th>GCGATCGGTGGAGGTT-1</th>\n",
       "      <td>GT 0/1</td>\n",
       "      <td>1</td>\n",
       "      <td>1</td>\n",
       "    </tr>\n",
       "    <tr>\n",
       "      <th>GCTGGGTGTACGATTC-1</th>\n",
       "      <td>GT 0/0</td>\n",
       "      <td>0</td>\n",
       "      <td>1</td>\n",
       "    </tr>\n",
       "    <tr>\n",
       "      <th>TCCATCGCAATTGTGC-1</th>\n",
       "      <td>GT 0/1</td>\n",
       "      <td>1</td>\n",
       "      <td>1</td>\n",
       "    </tr>\n",
       "    <tr>\n",
       "      <th>TTCCACGCATCCAATG-1</th>\n",
       "      <td>GT 0/1</td>\n",
       "      <td>1</td>\n",
       "      <td>2</td>\n",
       "    </tr>\n",
       "  </tbody>\n",
       "</table>\n",
       "</div>"
      ],
      "text/plain": [
       "                   SNP_2_86815701_GT  SNP_2_86815701_nALT  \\\n",
       "0                                                           \n",
       "ACTATCTGTGCAATAA-1            GT 0/0                    0   \n",
       "CAGGCCATCGTTCGCT-1            GT 0/0                    0   \n",
       "CATGGATGTCTGTGCG-1            GT 0/1                    2   \n",
       "CTCTGGTTCCGAGGCT-1            GT 0/1                    2   \n",
       "GATGACTGTTAGGGTG-1            GT 0/0                    0   \n",
       "GCGATCGGTGGAGGTT-1            GT 0/1                    1   \n",
       "GCTGGGTGTACGATTC-1            GT 0/0                    0   \n",
       "TCCATCGCAATTGTGC-1            GT 0/1                    1   \n",
       "TTCCACGCATCCAATG-1            GT 0/1                    1   \n",
       "\n",
       "                    SNP_2_86815701_coverage  \n",
       "0                                            \n",
       "ACTATCTGTGCAATAA-1                        1  \n",
       "CAGGCCATCGTTCGCT-1                        1  \n",
       "CATGGATGTCTGTGCG-1                        2  \n",
       "CTCTGGTTCCGAGGCT-1                        2  \n",
       "GATGACTGTTAGGGTG-1                        1  \n",
       "GCGATCGGTGGAGGTT-1                        1  \n",
       "GCTGGGTGTACGATTC-1                        1  \n",
       "TCCATCGCAATTGTGC-1                        1  \n",
       "TTCCACGCATCCAATG-1                        2  "
      ]
     },
     "execution_count": 31,
     "metadata": {},
     "output_type": "execute_result"
    }
   ],
   "source": [
    "adata.obs.query('SNP_2_86815701_GT !=\".\"')"
   ]
  },
  {
   "cell_type": "code",
   "execution_count": null,
   "metadata": {},
   "outputs": [],
   "source": []
  }
 ],
 "metadata": {
  "kernelspec": {
   "display_name": "Python 3",
   "language": "python",
   "name": "python3"
  },
  "language_info": {
   "codemirror_mode": {
    "name": "ipython",
    "version": 3
   },
   "file_extension": ".py",
   "mimetype": "text/x-python",
   "name": "python",
   "nbconvert_exporter": "python",
   "pygments_lexer": "ipython3",
   "version": "3.6.7"
  }
 },
 "nbformat": 4,
 "nbformat_minor": 4
}
